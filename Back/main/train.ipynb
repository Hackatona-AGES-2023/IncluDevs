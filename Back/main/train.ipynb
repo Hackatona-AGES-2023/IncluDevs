{
 "cells": [
  {
   "cell_type": "code",
   "execution_count": 1,
   "id": "f8181b12",
   "metadata": {},
   "outputs": [
    {
     "ename": "ModuleNotFoundError",
     "evalue": "No module named 'tensorflow'",
     "output_type": "error",
     "traceback": [
      "\u001b[0;31m---------------------------------------------------------------------------\u001b[0m",
      "\u001b[0;31mModuleNotFoundError\u001b[0m                       Traceback (most recent call last)",
      "Cell \u001b[0;32mIn[1], line 5\u001b[0m\n\u001b[1;32m      1\u001b[0m \u001b[38;5;124;03m'''\u001b[39;00m\n\u001b[1;32m      2\u001b[0m \u001b[38;5;124;03m@author Lucas Lacerda \u001b[39;00m\n\u001b[1;32m      3\u001b[0m \u001b[38;5;124;03m@date 05/2019\u001b[39;00m\n\u001b[1;32m      4\u001b[0m \u001b[38;5;124;03m'''\u001b[39;00m\n\u001b[0;32m----> 5\u001b[0m \u001b[38;5;28;01mfrom\u001b[39;00m \u001b[38;5;21;01mtensorflow\u001b[39;00m\u001b[38;5;21;01m.\u001b[39;00m\u001b[38;5;21;01mkeras\u001b[39;00m\u001b[38;5;21;01m.\u001b[39;00m\u001b[38;5;21;01mutils\u001b[39;00m \u001b[38;5;28;01mimport\u001b[39;00m to_categorical, plot_model \n\u001b[1;32m      6\u001b[0m \u001b[38;5;28;01mfrom\u001b[39;00m \u001b[38;5;21;01mtensorflow\u001b[39;00m\u001b[38;5;21;01m.\u001b[39;00m\u001b[38;5;21;01mkeras\u001b[39;00m\u001b[38;5;21;01m.\u001b[39;00m\u001b[38;5;21;01moptimizers\u001b[39;00m \u001b[38;5;28;01mimport\u001b[39;00m SGD, Adam\n\u001b[1;32m      7\u001b[0m \u001b[38;5;28;01mfrom\u001b[39;00m \u001b[38;5;21;01mtensorflow\u001b[39;00m\u001b[38;5;21;01m.\u001b[39;00m\u001b[38;5;21;01mkeras\u001b[39;00m \u001b[38;5;28;01mimport\u001b[39;00m backend\n",
      "\u001b[0;31mModuleNotFoundError\u001b[0m: No module named 'tensorflow'"
     ]
    }
   ],
   "source": [
    "from tensorflow.keras.utils import to_categorical, plot_model \n",
    "from tensorflow.keras.optimizers import SGD, Adam\n",
    "from tensorflow.keras import backend\n",
    "from sklearn.metrics import classification_report\n",
    "import matplotlib.pyplot as plt\n",
    "import numpy as np\n",
    "from tensorflow.keras.preprocessing.image import ImageDataGenerator\n",
    "from tensorflow.keras.callbacks import EarlyStopping\n",
    "from cnn import Convolucao\n",
    "\n",
    "import datetime\n",
    "import h5py\n",
    "import time\n",
    "\n",
    "EPOCHS = 30\n",
    "CLASS = 21\n",
    "FILE_NAME = 'cnn_model_LIBRAS_'\n",
    "\n",
    "def getDateStr():\n",
    "        return str('{date:%Y%m%d_%H%M}').format(date=datetime.datetime.now())\n",
    "\n",
    "def getTimeMin(start, end):\n",
    "        return (end - start)/60\n",
    "\n",
    "print('[INFO] [INICIO]: ' + getDateStr() + '\\n')\n",
    "\n",
    "print('[INFO] Download dataset usando keras.preprocessing.image.ImageDataGenerator')\n",
    "\n",
    "train_datagen = ImageDataGenerator(\n",
    "        rescale=1./255,\n",
    "        shear_range=0.2,\n",
    "        zoom_range=0.2,\n",
    "        horizontal_flip=True, \n",
    "        validation_split=0.25)\n",
    "\n",
    "test_datagen = ImageDataGenerator(rescale=1./255, validation_split=0.25)\n",
    "\n",
    "training_set = train_datagen.flow_from_directory(\n",
    "        '../dataset/training',\n",
    "        target_size=(64, 64),\n",
    "        color_mode = 'rgb',\n",
    "        batch_size=32,\n",
    "        shuffle=False,\n",
    "        class_mode='categorical')\n",
    "\n",
    "test_set = test_datagen.flow_from_directory(\n",
    "        '../dataset/test',\n",
    "        target_size=(64, 64),\n",
    "        color_mode = 'rgb',\n",
    "        batch_size=32,\n",
    "        shuffle=False,\n",
    "        class_mode='categorical')\n",
    "\n",
    "# inicializar e otimizar modelo\n",
    "print(\"[INFO] Inicializando e otimizando a CNN...\")\n",
    "start = time.time()\n",
    "\n",
    "early_stopping_monitor = EarlyStopping(monitor='val_loss', mode='min', verbose=1, patience=15)\n",
    "\n",
    "model = Convolucao.build(64, 64, 3, CLASS)\n",
    "model.compile(optimizer=SGD(0.01), loss=\"categorical_crossentropy\",\n",
    "              metrics=[\"accuracy\"])\n",
    "\n",
    "# treinar a CNN\n",
    "print(\"[INFO] Treinando a CNN...\")\n",
    "classifier = model.fit(\n",
    "        training_set,\n",
    "        steps_per_epoch=(training_set.n // training_set.batch_size),\n",
    "        epochs=EPOCHS,\n",
    "        validation_data = test_set,\n",
    "        validation_steps= (test_set.n // test_set.batch_size),\n",
    "        shuffle = False,\n",
    "        verbose=2,\n",
    "        callbacks = [early_stopping_monitor]\n",
    "      )\n",
    "\n",
    "# atualizo valor da epoca caso o treinamento tenha finalizado antes do valor de epoca que foi iniciado\n",
    "EPOCHS = len(classifier.history[\"loss\"])\n",
    "\n",
    "print(\"[INFO] Salvando modelo treinado ...\")\n",
    "\n",
    "#para todos arquivos ficarem com a mesma data e hora. Armazeno na variavel\n",
    "file_date = getDateStr()\n",
    "model.save('../models/'+FILE_NAME+file_date+'.h5')\n",
    "print('[INFO] modelo: ../models/'+FILE_NAME+file_date+'.h5 salvo!')\n",
    "\n",
    "end = time.time()\n",
    "\n",
    "print(\"[INFO] Tempo de execução da CNN: %.1f min\" %(getTimeMin(start,end)))\n",
    "\n",
    "\n",
    "print('[INFO] Summary: ')\n",
    "model.summary()"
   ]
  },
  {
   "cell_type": "code",
   "execution_count": 2,
   "id": "f2c18677",
   "metadata": {},
   "outputs": [
    {
     "name": "stdout",
     "output_type": "stream",
     "text": [
      "\n",
      "[INFO] Avaliando a CNN...\n"
     ]
    },
    {
     "ename": "NameError",
     "evalue": "name 'model' is not defined",
     "output_type": "error",
     "traceback": [
      "\u001b[0;31m---------------------------------------------------------------------------\u001b[0m",
      "\u001b[0;31mNameError\u001b[0m                                 Traceback (most recent call last)",
      "Cell \u001b[0;32mIn[2], line 2\u001b[0m\n\u001b[1;32m      1\u001b[0m \u001b[38;5;28mprint\u001b[39m(\u001b[38;5;124m\"\u001b[39m\u001b[38;5;130;01m\\n\u001b[39;00m\u001b[38;5;124m[INFO] Avaliando a CNN...\u001b[39m\u001b[38;5;124m\"\u001b[39m)\n\u001b[0;32m----> 2\u001b[0m score \u001b[38;5;241m=\u001b[39m \u001b[43mmodel\u001b[49m\u001b[38;5;241m.\u001b[39mevaluate(x\u001b[38;5;241m=\u001b[39mtest_set, steps\u001b[38;5;241m=\u001b[39m(test_set\u001b[38;5;241m.\u001b[39mn \u001b[38;5;241m/\u001b[39m\u001b[38;5;241m/\u001b[39m test_set\u001b[38;5;241m.\u001b[39mbatch_size), verbose\u001b[38;5;241m=\u001b[39m\u001b[38;5;241m1\u001b[39m)\n\u001b[1;32m      3\u001b[0m \u001b[38;5;28mprint\u001b[39m(\u001b[38;5;124m'\u001b[39m\u001b[38;5;124m[INFO] Accuracy: \u001b[39m\u001b[38;5;132;01m%.2f\u001b[39;00m\u001b[38;5;132;01m%%\u001b[39;00m\u001b[38;5;124m'\u001b[39m \u001b[38;5;241m%\u001b[39m (score[\u001b[38;5;241m1\u001b[39m]\u001b[38;5;241m*\u001b[39m\u001b[38;5;241m100\u001b[39m), \u001b[38;5;124m'\u001b[39m\u001b[38;5;124m| Loss: \u001b[39m\u001b[38;5;132;01m%.5f\u001b[39;00m\u001b[38;5;124m'\u001b[39m \u001b[38;5;241m%\u001b[39m (score[\u001b[38;5;241m0\u001b[39m]))\n\u001b[1;32m      5\u001b[0m \u001b[38;5;28mprint\u001b[39m(\u001b[38;5;124m\"\u001b[39m\u001b[38;5;124m[INFO] Sumarizando loss e accuracy para os datasets \u001b[39m\u001b[38;5;124m'\u001b[39m\u001b[38;5;124mtrain\u001b[39m\u001b[38;5;124m'\u001b[39m\u001b[38;5;124m e \u001b[39m\u001b[38;5;124m'\u001b[39m\u001b[38;5;124mtest\u001b[39m\u001b[38;5;124m'\u001b[39m\u001b[38;5;124m\"\u001b[39m)\n",
      "\u001b[0;31mNameError\u001b[0m: name 'model' is not defined"
     ]
    }
   ],
   "source": [
    "print(\"\\n[INFO] Avaliando a CNN...\")\n",
    "score = model.evaluate(x=test_set, steps=(test_set.n // test_set.batch_size), verbose=1)\n",
    "print('[INFO] Accuracy: %.2f%%' % (score[1]*100), '| Loss: %.5f' % (score[0]))\n",
    "\n",
    "print(\"[INFO] Sumarizando loss e accuracy para os datasets 'train' e 'test'\")\n",
    "\n",
    "plt.style.use(\"ggplot\")\n",
    "plt.figure()\n",
    "plt.plot(np.arange(0,EPOCHS), classifier.history[\"loss\"], label=\"train_loss\")\n",
    "plt.plot(np.arange(0,EPOCHS), classifier.history[\"val_loss\"], label=\"val_loss\")\n",
    "plt.plot(np.arange(0,EPOCHS), classifier.history[\"accuracy\"], label=\"train_acc\")\n",
    "plt.plot(np.arange(0,EPOCHS), classifier.history[\"val_accuracy\"], label=\"val_acc\")\n",
    "plt.title(\"Training Loss and Accuracy\")\n",
    "plt.xlabel(\"Epoch #\")\n",
    "plt.ylabel(\"Loss/Accuracy\")\n",
    "plt.legend()\n",
    "plt.savefig('../models/graphics/'+FILE_NAME+file_date+'.png', bbox_inches='tight')\n",
    "\n",
    "print('[INFO] Gerando imagem do modelo de camadas da CNN')\n",
    "plot_model(model, to_file='../models/image/'+FILE_NAME+file_date+'.png', show_shapes = True)\n",
    "\n",
    "print('\\n[INFO] [FIM]: ' + getDateStr())\n",
    "print('\\n\\n')\n"
   ]
  },
  {
   "cell_type": "code",
   "execution_count": null,
   "id": "4514295e",
   "metadata": {},
   "outputs": [],
   "source": []
  }
 ],
 "metadata": {
  "kernelspec": {
   "display_name": "Python 3 (ipykernel)",
   "language": "python",
   "name": "python3"
  },
  "language_info": {
   "codemirror_mode": {
    "name": "ipython",
    "version": 3
   },
   "file_extension": ".py",
   "mimetype": "text/x-python",
   "name": "python",
   "nbconvert_exporter": "python",
   "pygments_lexer": "ipython3",
   "version": "3.10.4"
  }
 },
 "nbformat": 4,
 "nbformat_minor": 5
}
